{
 "cells": [
  {
   "cell_type": "code",
   "execution_count": 10,
   "id": "0bfd3c55",
   "metadata": {},
   "outputs": [],
   "source": [
    "import numpy as np\n"
   ]
  },
  {
   "cell_type": "code",
   "execution_count": 11,
   "id": "43fa21d7",
   "metadata": {},
   "outputs": [
    {
     "data": {
      "text/plain": [
       "'1.20.1'"
      ]
     },
     "execution_count": 11,
     "metadata": {},
     "output_type": "execute_result"
    }
   ],
   "source": [
    "np.__version__"
   ]
  },
  {
   "cell_type": "markdown",
   "id": "af88e8b7",
   "metadata": {},
   "source": [
    "Sin , Cos, Tan Functions"
   ]
  },
  {
   "cell_type": "code",
   "execution_count": 23,
   "id": "977482b1",
   "metadata": {},
   "outputs": [
    {
     "name": "stdout",
     "output_type": "stream",
     "text": [
      "sin: [ 0.84147098  0.90929743 -0.7568025   0.84147098], \n",
      " cosine: [ 0.54030231 -0.41614684 -0.65364362  0.54030231], \n",
      " tangent: [ 1.55740772 -2.18503986  1.15782128  1.55740772]\n"
     ]
    }
   ],
   "source": [
    "y=([1,2,4,1])\n",
    "x= np.array(y)\n",
    "print(\"sin: {}, \\n cosine: {}, \\n tangent: {}\".format(np.sin(x),np.cos(x),np.tan(x)))"
   ]
  },
  {
   "cell_type": "markdown",
   "id": "dddcbc66",
   "metadata": {},
   "source": [
    "Inverse Sin, Inverse Cos, Inverse Tan functions "
   ]
  },
  {
   "cell_type": "code",
   "execution_count": 25,
   "id": "6595ea93",
   "metadata": {},
   "outputs": [
    {
     "name": "stdout",
     "output_type": "stream",
     "text": [
      "sin:[1.57079633        nan        nan 1.57079633],\n",
      "cosine:[ 0. nan nan  0.],\n",
      "tangent[0.78539816 1.10714872 1.32581766 0.78539816]\n"
     ]
    },
    {
     "name": "stderr",
     "output_type": "stream",
     "text": [
      "<ipython-input-25-bdc65cf56e5e>:2: RuntimeWarning: invalid value encountered in arcsin\n",
      "  print(\"sin:{},\\ncosine:{},\\ntangent{}\".format(np.arcsin(x),np.arccos(x),np.arctan(x)))\n",
      "<ipython-input-25-bdc65cf56e5e>:2: RuntimeWarning: invalid value encountered in arccos\n",
      "  print(\"sin:{},\\ncosine:{},\\ntangent{}\".format(np.arcsin(x),np.arccos(x),np.arctan(x)))\n"
     ]
    }
   ],
   "source": [
    "x=np.array(y)\n",
    "print(\"sin:{},\\ncosine:{},\\ntangent{}\".format(np.arcsin(x),np.arccos(x),np.arctan(x)))"
   ]
  },
  {
   "cell_type": "code",
   "execution_count": 32,
   "id": "80d5206f",
   "metadata": {},
   "outputs": [],
   "source": [
    "a=[[11,12,13],[21,22,23],[41,42,43]]\n",
    "A= np.array(a)"
   ]
  },
  {
   "cell_type": "code",
   "execution_count": 31,
   "id": "2421c058",
   "metadata": {},
   "outputs": [
    {
     "data": {
      "text/plain": [
       "2"
      ]
     },
     "execution_count": 31,
     "metadata": {},
     "output_type": "execute_result"
    }
   ],
   "source": [
    "A.ndim"
   ]
  },
  {
   "cell_type": "code",
   "execution_count": 33,
   "id": "5ee1dbfa",
   "metadata": {},
   "outputs": [
    {
     "data": {
      "text/plain": [
       "(3, 3)"
      ]
     },
     "execution_count": 33,
     "metadata": {},
     "output_type": "execute_result"
    }
   ],
   "source": [
    "A.shape"
   ]
  },
  {
   "cell_type": "code",
   "execution_count": 34,
   "id": "a8cdc6d8",
   "metadata": {},
   "outputs": [
    {
     "data": {
      "text/plain": [
       "9"
      ]
     },
     "execution_count": 34,
     "metadata": {},
     "output_type": "execute_result"
    }
   ],
   "source": [
    "A.size"
   ]
  },
  {
   "cell_type": "code",
   "execution_count": null,
   "id": "e21930be",
   "metadata": {},
   "outputs": [],
   "source": []
  }
 ],
 "metadata": {
  "kernelspec": {
   "display_name": "Python 3",
   "language": "python",
   "name": "python3"
  },
  "language_info": {
   "codemirror_mode": {
    "name": "ipython",
    "version": 3
   },
   "file_extension": ".py",
   "mimetype": "text/x-python",
   "name": "python",
   "nbconvert_exporter": "python",
   "pygments_lexer": "ipython3",
   "version": "3.8.8"
  }
 },
 "nbformat": 4,
 "nbformat_minor": 5
}
